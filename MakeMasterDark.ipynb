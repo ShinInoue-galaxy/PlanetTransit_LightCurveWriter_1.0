{
 "cells": [
  {
   "cell_type": "markdown",
   "id": "1cd396b0",
   "metadata": {},
   "source": [
    "# マスターダークを作る"
   ]
  },
  {
   "cell_type": "code",
   "execution_count": null,
   "id": "53db4117",
   "metadata": {},
   "outputs": [],
   "source": [
    "#module import\n",
    "from SI_function import ImageReduction as IR"
   ]
  },
  {
   "cell_type": "code",
   "execution_count": null,
   "id": "b0e879e0",
   "metadata": {},
   "outputs": [],
   "source": []
  },
  {
   "cell_type": "markdown",
   "id": "3a5467ec",
   "metadata": {},
   "source": [
    "# ダークファイルの生データを記述したリスト、出力ファイル名を記入"
   ]
  },
  {
   "cell_type": "code",
   "execution_count": null,
   "id": "1c6a7864",
   "metadata": {},
   "outputs": [],
   "source": [
    "#================optional========================\n",
    "dark_list = 'PATH/dark.list'  #darkファイルがある場所に置く 必ずdark.listの形式\n",
    "output_file = 'dark.FIT'  #ファイル名だけ"
   ]
  },
  {
   "cell_type": "code",
   "execution_count": null,
   "id": "13feac66",
   "metadata": {},
   "outputs": [],
   "source": []
  },
  {
   "cell_type": "code",
   "execution_count": null,
   "id": "eab5d3f2",
   "metadata": {},
   "outputs": [],
   "source": [
    "#実行するだけ\n",
    "IR.make_dark(dark_list, output_file)"
   ]
  },
  {
   "cell_type": "code",
   "execution_count": null,
   "id": "884b47c8",
   "metadata": {},
   "outputs": [],
   "source": []
  },
  {
   "cell_type": "code",
   "execution_count": null,
   "id": "3399f1a8",
   "metadata": {},
   "outputs": [],
   "source": []
  }
 ],
 "metadata": {
  "kernelspec": {
   "display_name": "Python 3 (ipykernel)",
   "language": "python",
   "name": "python3"
  },
  "language_info": {
   "codemirror_mode": {
    "name": "ipython",
    "version": 3
   },
   "file_extension": ".py",
   "mimetype": "text/x-python",
   "name": "python",
   "nbconvert_exporter": "python",
   "pygments_lexer": "ipython3",
   "version": "3.9.10"
  }
 },
 "nbformat": 4,
 "nbformat_minor": 5
}

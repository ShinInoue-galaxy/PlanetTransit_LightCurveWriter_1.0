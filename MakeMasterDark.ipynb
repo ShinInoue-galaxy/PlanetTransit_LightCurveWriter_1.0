{
 "cells": [
  {
   "cell_type": "markdown",
   "id": "1cd396b0",
   "metadata": {},
   "source": [
    "# マスターダークを作る"
   ]
  },
  {
   "cell_type": "code",
   "execution_count": 1,
   "id": "53db4117",
   "metadata": {},
   "outputs": [],
   "source": [
    "#module import\n",
    "from SI_function import ImageReduction as IR"
   ]
  },
  {
   "cell_type": "code",
   "execution_count": null,
   "id": "b0e879e0",
   "metadata": {},
   "outputs": [],
   "source": []
  },
  {
   "cell_type": "markdown",
   "id": "3a5467ec",
   "metadata": {},
   "source": [
    "# ダークファイルの生データを記述したリスト、出力ファイル名を記入"
   ]
  },
  {
   "cell_type": "code",
   "execution_count": 2,
   "id": "1c6a7864",
   "metadata": {},
   "outputs": [],
   "source": [
    "#================optional========================\n",
    "dark_list = '../WASP-43/Dark/dark_50.list'  #darkファイルがある場所に置く 必ずdark.listの形式\n",
    "output_file = 'dark_50.FIT'  #ファイル名だけ"
   ]
  },
  {
   "cell_type": "code",
   "execution_count": null,
   "id": "13feac66",
   "metadata": {},
   "outputs": [],
   "source": []
  },
  {
   "cell_type": "code",
   "execution_count": 2,
   "id": "eab5d3f2",
   "metadata": {},
   "outputs": [
    {
     "ename": "NameError",
     "evalue": "name 'dark_list' is not defined",
     "output_type": "error",
     "traceback": [
      "\u001b[0;31m---------------------------------------------------------------------------\u001b[0m",
      "\u001b[0;31mNameError\u001b[0m                                 Traceback (most recent call last)",
      "\u001b[0;32m/var/folders/dr/jnc6npln0sjgvgnpg87zydxh0000gn/T/ipykernel_25496/2738230034.py\u001b[0m in \u001b[0;36m<module>\u001b[0;34m\u001b[0m\n\u001b[1;32m      1\u001b[0m \u001b[0;31m#実行するだけ\u001b[0m\u001b[0;34m\u001b[0m\u001b[0;34m\u001b[0m\u001b[0m\n\u001b[0;32m----> 2\u001b[0;31m \u001b[0mIR\u001b[0m\u001b[0;34m.\u001b[0m\u001b[0mmake_dark\u001b[0m\u001b[0;34m(\u001b[0m\u001b[0mdark_list\u001b[0m\u001b[0;34m,\u001b[0m \u001b[0moutput_file\u001b[0m\u001b[0;34m)\u001b[0m\u001b[0;34m\u001b[0m\u001b[0;34m\u001b[0m\u001b[0m\n\u001b[0m",
      "\u001b[0;31mNameError\u001b[0m: name 'dark_list' is not defined"
     ]
    }
   ],
   "source": [
    "#実行するだけ\n",
    "IR.make_dark(dark_list, output_file)"
   ]
  },
  {
   "cell_type": "code",
   "execution_count": null,
   "id": "884b47c8",
   "metadata": {},
   "outputs": [],
   "source": []
  },
  {
   "cell_type": "code",
   "execution_count": null,
   "id": "3399f1a8",
   "metadata": {},
   "outputs": [],
   "source": []
  }
 ],
 "metadata": {
  "kernelspec": {
   "display_name": "Python 3 (ipykernel)",
   "language": "python",
   "name": "python3"
  },
  "language_info": {
   "codemirror_mode": {
    "name": "ipython",
    "version": 3
   },
   "file_extension": ".py",
   "mimetype": "text/x-python",
   "name": "python",
   "nbconvert_exporter": "python",
   "pygments_lexer": "ipython3",
   "version": "3.9.10"
  }
 },
 "nbformat": 4,
 "nbformat_minor": 5
}

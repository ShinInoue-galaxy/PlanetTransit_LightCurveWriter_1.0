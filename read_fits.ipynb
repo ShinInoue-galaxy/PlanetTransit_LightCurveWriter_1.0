{
 "cells": [
  {
   "cell_type": "code",
   "execution_count": 1,
   "id": "bef6fef6",
   "metadata": {},
   "outputs": [],
   "source": [
    "from multiprocessing import Pool\n",
    "from SI_function import CompositFunction as CF\n",
    "from SI_function import astro_image\n",
    "import numpy as np\n",
    "import tqdm\n",
    "import astropy.io.fits as fits\n",
    "import re\n",
    "import matplotlib.pyplot as plt"
   ]
  },
  {
   "cell_type": "code",
   "execution_count": 2,
   "id": "ea45278c",
   "metadata": {},
   "outputs": [],
   "source": [
    "light_list = '../WASP-43/Light/light.list'  #lightファイルがある場所に置く 必ずlight.listの形式"
   ]
  },
  {
   "cell_type": "code",
   "execution_count": 3,
   "id": "ebda3839",
   "metadata": {},
   "outputs": [
    {
     "data": {
      "text/plain": [
       "<Figure size 432x288 with 0 Axes>"
      ]
     },
     "metadata": {},
     "output_type": "display_data"
    }
   ],
   "source": [
    "r = re.match(r'(.+)light.list',light_list)\n",
    "r.groups()[0]\n",
    "f = open(light_list, 'r')\n",
    "for fline in f:\n",
    "    hdu = fits.open(r.groups()[0]+fline.rstrip('\\n'))\n",
    "    image = hdu[0].data\n",
    "    \n",
    "    #write image\n",
    "    m = re.match(r'(.+).FIT',fline.rstrip('\\n'))\n",
    "    #image = astro_image.image_log(image)\n",
    "    fig=plt.figure(figsize=(12,8),dpi = 300)\n",
    "    fig.patch.set_facecolor('white')\n",
    "    plt.imshow(image, cmap = 'jet')\n",
    "    plt.savefig(r.groups()[0]+'out/'+m.groups()[0]+'.png')\n",
    "    \n",
    "    plt.close()\n",
    "    plt.clf()"
   ]
  },
  {
   "cell_type": "code",
   "execution_count": null,
   "id": "321b1fb1",
   "metadata": {},
   "outputs": [],
   "source": []
  }
 ],
 "metadata": {
  "kernelspec": {
   "display_name": "Python 3 (ipykernel)",
   "language": "python",
   "name": "python3"
  },
  "language_info": {
   "codemirror_mode": {
    "name": "ipython",
    "version": 3
   },
   "file_extension": ".py",
   "mimetype": "text/x-python",
   "name": "python",
   "nbconvert_exporter": "python",
   "pygments_lexer": "ipython3",
   "version": "3.9.10"
  }
 },
 "nbformat": 4,
 "nbformat_minor": 5
}

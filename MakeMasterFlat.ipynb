{
 "cells": [
  {
   "cell_type": "markdown",
   "id": "1cd396b0",
   "metadata": {},
   "source": [
    "# マスターフラットを作る"
   ]
  },
  {
   "cell_type": "code",
   "execution_count": null,
   "id": "53db4117",
   "metadata": {},
   "outputs": [],
   "source": [
    "#module import\n",
    "from SI_function import ImageReduction as IR"
   ]
  },
  {
   "cell_type": "code",
   "execution_count": null,
   "id": "ada25249",
   "metadata": {},
   "outputs": [],
   "source": []
  },
  {
   "cell_type": "markdown",
   "id": "d6a40334",
   "metadata": {},
   "source": [
    "# フラットファイルの生データを記述したリスト、出力ファイル名、ダークファイル名を記入"
   ]
  },
  {
   "cell_type": "code",
   "execution_count": null,
   "id": "1c6a7864",
   "metadata": {},
   "outputs": [],
   "source": [
    "flat_list = 'PATH/flat.list'  #darkファイルがある場所に置く 必ずdark.listの形式\n",
    "dark_file = 'PATH/out/dark.FIT' #フルパス\n",
    "output_file = 'flat.FIT'  #ファイル名だけ"
   ]
  },
  {
   "cell_type": "code",
   "execution_count": null,
   "id": "eab5d3f2",
   "metadata": {},
   "outputs": [],
   "source": [
    "IR.make_flat(flat_list, dark_file, output_file)"
   ]
  },
  {
   "cell_type": "code",
   "execution_count": null,
   "id": "6e1210c2",
   "metadata": {},
   "outputs": [],
   "source": []
  }
 ],
 "metadata": {
  "kernelspec": {
   "display_name": "Python 3 (ipykernel)",
   "language": "python",
   "name": "python3"
  },
  "language_info": {
   "codemirror_mode": {
    "name": "ipython",
    "version": 3
   },
   "file_extension": ".py",
   "mimetype": "text/x-python",
   "name": "python",
   "nbconvert_exporter": "python",
   "pygments_lexer": "ipython3",
   "version": "3.9.10"
  }
 },
 "nbformat": 4,
 "nbformat_minor": 5
}

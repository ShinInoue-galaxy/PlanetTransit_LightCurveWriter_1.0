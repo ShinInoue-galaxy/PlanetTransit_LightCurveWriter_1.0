{
 "cells": [
  {
   "cell_type": "markdown",
   "id": "7959e58e",
   "metadata": {},
   "source": [
    "# ライトカーブを描く\n",
    "\n",
    "- ds9のregionで星を選択\n"
   ]
  },
  {
   "cell_type": "code",
   "execution_count": null,
   "id": "f8f78444",
   "metadata": {},
   "outputs": [],
   "source": [
    "#module import\n",
    " \n",
    "import numpy as np\n",
    "import matplotlib.pyplot as plt\n",
    "from SI_function import ImageReduction as IR\n",
    "from SI_function import LightCurveFunction as LCF\n"
   ]
  },
  {
   "cell_type": "code",
   "execution_count": null,
   "id": "908c795e",
   "metadata": {},
   "outputs": [],
   "source": [
    "\"\"\"=================================\"\"\"\n",
    "input_list = 'PATH/out/light_dfs.list'   #skyまで引いたデータ　時系列で並べる\n",
    "reg_file = 'PATH/select.reg'  #ds9で作ったcircle region greenがtarget星, それ以外の色がreference星\n",
    "displacement_file = 'PATH/displacement.txt'   #ここに計算したdipslacementを格納  あるいはこれを読み込んで使用。\n",
    "r_pix = False   #pix 重心を決定する際に使う半径 これをfalseにした場合は regionの半径を採用する。\n",
    "half_aperture_fwhm = 10  #FWHMを求める際に使う半径　基本的に同程度の明るさの星を扱うのでこれは固定で良い　返ってきた結果がおかしい時は調整する ただしあまりここは動作が良くないぽい\n",
    "half_aperture = False  #pix 開口測光の\"半径\" これをfalseにした場合は、3*FWHMで測光する\n",
    "local_bkg = True #測光する際に周りを使うかどうか"
   ]
  },
  {
   "cell_type": "code",
   "execution_count": null,
   "id": "3d4caf9a",
   "metadata": {},
   "outputs": [],
   "source": []
  },
  {
   "cell_type": "code",
   "execution_count": null,
   "id": "df4506ee",
   "metadata": {},
   "outputs": [],
   "source": [
    "#開く\n",
    "#PATHの設定\n",
    "PATH, output_name = IR.set_PATH_name(input_list, output_file='dummy', type = 'light')\n",
    "#画像オープン\n",
    "images, hdrs = IR.open_fits_multi(input_list, PATH)\n",
    "#skyを引いた際の誤差を修正\n",
    "images = LCF.sky_offset(images, hdrs)"
   ]
  },
  {
   "cell_type": "code",
   "execution_count": null,
   "id": "b1dea30f",
   "metadata": {},
   "outputs": [],
   "source": []
  },
  {
   "cell_type": "code",
   "execution_count": null,
   "id": "773528d7",
   "metadata": {},
   "outputs": [],
   "source": [
    "#画像のずれを計算して変移を取得\n",
    "displacements = LCF.calc_read_displacements(images, displacement_file)"
   ]
  },
  {
   "cell_type": "code",
   "execution_count": null,
   "id": "79295b76",
   "metadata": {},
   "outputs": [],
   "source": [
    "#region ファイルを開いて測光するポイントを取得\n",
    "circles = LCF.open_reg_circle(reg_file)\n",
    "#regionファイルでターゲット星を示すインデックスを返す\n",
    "target = LCF.get_target(circles)"
   ]
  },
  {
   "cell_type": "code",
   "execution_count": null,
   "id": "d06ca34f",
   "metadata": {},
   "outputs": [],
   "source": []
  },
  {
   "cell_type": "code",
   "execution_count": null,
   "id": "034bd45a",
   "metadata": {},
   "outputs": [],
   "source": [
    "photometries = LCF.do_aperture_photometry(images, displacements, circles, target, r_pix, half_aperture, half_aperture_fwhm, local_bkg = local_bkg)"
   ]
  },
  {
   "cell_type": "code",
   "execution_count": null,
   "id": "feb9ed95",
   "metadata": {},
   "outputs": [],
   "source": [
    "#ラベル用\n",
    "dates = LCF.get_hdr_date(hdrs)\n",
    "label = []\n",
    "date_seconds = []\n",
    "for i in range(len(dates)):\n",
    "    label.append(dates[i].show_date())\n",
    "    date_seconds.append(dates[i].return_seconds())\n",
    "    "
   ]
  },
  {
   "cell_type": "code",
   "execution_count": null,
   "id": "f9f782e8",
   "metadata": {},
   "outputs": [],
   "source": [
    "fig=plt.figure(figsize=(10,3),dpi = 300)\n",
    "fig.patch.set_facecolor('white')\n",
    "plt.plot(date_seconds, np.array(photometries)[:,1]/np.array(photometries)[:,2])\n",
    "#plt.plot(date_seconds, np.array(flux_target))\n",
    "plt.xticks(date_seconds[0:len(date_seconds):10], label[0:len(date_seconds):10],rotation = -90)"
   ]
  },
  {
   "cell_type": "code",
   "execution_count": null,
   "id": "691d0bbf",
   "metadata": {},
   "outputs": [],
   "source": []
  }
 ],
 "metadata": {
  "kernelspec": {
   "display_name": "Python 3 (ipykernel)",
   "language": "python",
   "name": "python3"
  },
  "language_info": {
   "codemirror_mode": {
    "name": "ipython",
    "version": 3
   },
   "file_extension": ".py",
   "mimetype": "text/x-python",
   "name": "python",
   "nbconvert_exporter": "python",
   "pygments_lexer": "ipython3",
   "version": "3.9.10"
  }
 },
 "nbformat": 4,
 "nbformat_minor": 5
}

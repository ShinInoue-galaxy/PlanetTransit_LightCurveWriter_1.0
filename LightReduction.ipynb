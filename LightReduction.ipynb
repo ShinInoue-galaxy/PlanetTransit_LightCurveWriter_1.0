{
 "cells": [
  {
   "cell_type": "markdown",
   "id": "41350da6",
   "metadata": {},
   "source": [
    "# ライトフレームの一次処理を行う"
   ]
  },
  {
   "cell_type": "code",
   "execution_count": null,
   "id": "14226f49",
   "metadata": {},
   "outputs": [],
   "source": [
    "from SI_function import ImageReduction as IR"
   ]
  },
  {
   "cell_type": "code",
   "execution_count": null,
   "id": "a9a27163",
   "metadata": {},
   "outputs": [],
   "source": [
    "#================optional========================\n",
    "light_list = 'PATH/light.list'  #lightファイルがある場所に置く 必ずlight.listの形式\n",
    "dark_file ='PATH/out/dark.FIT' #フルパス\n",
    "flat_file = 'PATH/out/flat.FIT' #フルパス　露光時間を合わせること\n",
    "sky = True    #背景を線形近似する場合に使用  計算に時間がかかるので早いうちに並列化に対応させたい\n",
    "test = False #skyが用のマスクがうまく行っているか確かめる時だけはTrue"
   ]
  },
  {
   "cell_type": "code",
   "execution_count": null,
   "id": "b5519052",
   "metadata": {},
   "outputs": [],
   "source": []
  },
  {
   "cell_type": "code",
   "execution_count": null,
   "id": "3dad9b1d",
   "metadata": {},
   "outputs": [],
   "source": [
    "IR.light_dark_flat(light_list, dark_file, flat_file, sky = sky, test = test)"
   ]
  },
  {
   "cell_type": "code",
   "execution_count": null,
   "id": "7446cda6",
   "metadata": {},
   "outputs": [],
   "source": []
  }
 ],
 "metadata": {
  "kernelspec": {
   "display_name": "Python 3 (ipykernel)",
   "language": "python",
   "name": "python3"
  },
  "language_info": {
   "codemirror_mode": {
    "name": "ipython",
    "version": 3
   },
   "file_extension": ".py",
   "mimetype": "text/x-python",
   "name": "python",
   "nbconvert_exporter": "python",
   "pygments_lexer": "ipython3",
   "version": "3.9.10"
  }
 },
 "nbformat": 4,
 "nbformat_minor": 5
}
